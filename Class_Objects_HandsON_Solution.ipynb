{
 "cells": [
  {
   "cell_type": "markdown",
   "metadata": {},
   "source": [
    "##                                          Topic- Classes and Objects"
   ]
  },
  {
   "cell_type": "code",
   "execution_count": 1,
   "metadata": {},
   "outputs": [],
   "source": [
    "#                      1. Create a class ABC without any attributes and methods, ie. an empty class.\n",
    "\n",
    "# solution :\n",
    "\n",
    "class ABC:\n",
    "\n",
    "    pass\n"
   ]
  },
  {
   "cell_type": "code",
   "execution_count": 2,
   "metadata": {},
   "outputs": [],
   "source": [
    "#                        2. Create a class named School. Write a constructor to initialize the attributes.\n",
    "\n",
    "\n",
    "#                                                        School\n",
    "\n",
    "#   ---------------------------------------------------------------------------------------------------------------------------------\n",
    "\n",
    "#                                                        name\n",
    "#                                                    academic_year\n",
    "#                                                    total_students\n",
    "#                                                       board\n",
    "#                                                    own_transport\n",
    "\n",
    "#   ---------------------------------------------------------------------------------------------------------------------------------\n",
    "\n",
    "\n",
    "# Solution :\n",
    "\n",
    "class School:\n",
    "\n",
    "    def __init__(self, name, academic_year, total_students, board, own_transport):\n",
    "\n",
    "        self.name = name\n",
    "        self.academic_year = academic_year\n",
    "        self.total_students = total_students\n",
    "        self.board = board\n",
    "        self.own_transport = own_transport\n"
   ]
  },
  {
   "cell_type": "code",
   "execution_count": 3,
   "metadata": {},
   "outputs": [],
   "source": [
    "#                                        3. Create two School objects :  school1 and school2:\n",
    "\n",
    "#   ---------------------------------------------------------------------------------------------------------------------------------\n",
    "\n",
    "#                                                        school1\n",
    "\n",
    "#   ---------------------------------------------------------------------------------------------------------------------------------\n",
    "\n",
    "#                                                   name = ‘Oxford’\n",
    "#                                              academic_year = 2024\n",
    "#                                              total_students = 2215\n",
    "#                                                  board = ‘CBSE’\n",
    "#                                              own_transport = ‘no’\n",
    "\n",
    "#   ---------------------------------------------------------------------------------------------------------------------------------\n",
    "\n",
    "\n",
    "#   ---------------------------------------------------------------------------------------------------------------------------------\n",
    "\n",
    "#                                                        school2\n",
    "\n",
    "#   ---------------------------------------------------------------------------------------------------------------------------------\n",
    "\n",
    "#                                                name = ‘Chaitanya’\n",
    "#                                                academic_year = 2024\n",
    "#                                                total_students = 2245\n",
    "#                                                board = ‘ICSE’\n",
    "#                                                own_transport = ‘yes'\n",
    "\n",
    "#   ---------------------------------------------------------------------------------------------------------------------------------\n",
    "\n",
    "\n",
    "\n",
    "#  Solution :\n",
    "\n",
    "school1 = School(name='Oxford', academic_year=2024, total_students=2215, board='CBSE', own_transport='no')\n",
    "\n",
    "school2 = School(name='Chaitanya', academic_year=2024, total_students=2245, board='ICSE', own_transport='yes')\n",
    "\n",
    "\n",
    "\n"
   ]
  },
  {
   "cell_type": "code",
   "execution_count": 8,
   "metadata": {},
   "outputs": [
    {
     "name": "stdout",
     "output_type": "stream",
     "text": [
      "Chaitanya School has more students\n"
     ]
    }
   ],
   "source": [
    "\n",
    "#                                   4. Find the name of the school that has more students.\n",
    "\n",
    "\n",
    "if school1.total_students > school2.total_students:\n",
    "\n",
    "    print(school1.name, \"School has more students\")\n",
    "\n",
    "else:\n",
    "\n",
    "    print(school2.name, \"School has more students\")\n"
   ]
  }
 ],
 "metadata": {
  "kernelspec": {
   "display_name": "Python 3",
   "language": "python",
   "name": "python3"
  },
  "language_info": {
   "codemirror_mode": {
    "name": "ipython",
    "version": 3
   },
   "file_extension": ".py",
   "mimetype": "text/x-python",
   "name": "python",
   "nbconvert_exporter": "python",
   "pygments_lexer": "ipython3",
   "version": "3.12.1"
  }
 },
 "nbformat": 4,
 "nbformat_minor": 2
}
